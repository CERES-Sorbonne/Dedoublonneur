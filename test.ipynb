{
 "cells": [
  {
   "cell_type": "code",
   "execution_count": 1,
   "metadata": {},
   "outputs": [
    {
     "ename": "ModuleNotFoundError",
     "evalue": "No module named 'avance'",
     "output_type": "error",
     "traceback": [
      "\u001b[1;31m---------------------------------------------------------------------------\u001b[0m",
      "\u001b[1;31mModuleNotFoundError\u001b[0m                       Traceback (most recent call last)",
      "\u001b[1;32mc:\\Users\\MH\\Documents\\GitHub\\Dedoublonneur\\test.ipynb Cell 1'\u001b[0m in \u001b[0;36m<cell line: 1>\u001b[1;34m()\u001b[0m\n\u001b[1;32m----> <a href='vscode-notebook-cell:/c%3A/Users/MH/Documents/GitHub/Dedoublonneur/test.ipynb#ch0000000?line=0'>1</a>\u001b[0m \u001b[39mimport\u001b[39;00m \u001b[39mDedoubloneur\u001b[39;00m\n",
      "File \u001b[1;32mc:\\Users\\MH\\Documents\\GitHub\\Dedoublonneur\\Dedoubloneur\\__init__.py:1\u001b[0m, in \u001b[0;36m<module>\u001b[1;34m\u001b[0m\n\u001b[1;32m----> 1\u001b[0m \u001b[39mimport\u001b[39;00m \u001b[39mavance\u001b[39;00m\n",
      "\u001b[1;31mModuleNotFoundError\u001b[0m: No module named 'avance'"
     ]
    }
   ],
   "source": [
    "import Dedoubloneur"
   ]
  },
  {
   "cell_type": "code",
   "execution_count": 8,
   "metadata": {},
   "outputs": [
    {
     "ename": "AttributeError",
     "evalue": "module 'Dedoubloneur' has no attribute 'avance'",
     "output_type": "error",
     "traceback": [
      "\u001b[1;31m---------------------------------------------------------------------------\u001b[0m",
      "\u001b[1;31mAttributeError\u001b[0m                            Traceback (most recent call last)",
      "\u001b[1;32mc:\\Users\\MH\\Documents\\GitHub\\Dedoublonneur\\test.ipynb Cell 2'\u001b[0m in \u001b[0;36m<cell line: 1>\u001b[1;34m()\u001b[0m\n\u001b[1;32m----> <a href='vscode-notebook-cell:/c%3A/Users/MH/Documents/GitHub/Dedoublonneur/test.ipynb#ch0000004?line=0'>1</a>\u001b[0m Dedoubloneur\u001b[39m.\u001b[39;49mavance()\n",
      "\u001b[1;31mAttributeError\u001b[0m: module 'Dedoubloneur' has no attribute 'avance'"
     ]
    }
   ],
   "source": [
    "Dedoubloneur.avance()"
   ]
  },
  {
   "cell_type": "code",
   "execution_count": 2,
   "metadata": {},
   "outputs": [
    {
     "name": "stdout",
     "output_type": "stream",
     "text": [
      "\n",
      "Dédoublonage avancé\n"
     ]
    },
    {
     "data": {
      "application/vnd.jupyter.widget-view+json": {
       "model_id": "91951ff5b62e4c169074d60b1af5a3a1",
       "version_major": 2,
       "version_minor": 0
      },
      "text/plain": [
       "Calcul des vecteurs BoW:   0%|          | 0/2 [00:00<?, ?it/s]"
      ]
     },
     "metadata": {},
     "output_type": "display_data"
    }
   ],
   "source": [
    "import json\n",
    "def jsonread(chemin_fichier: str, y = \"utf-8-sig\"):\n",
    "    \"\"\"Charge un json et retourne l'objet appelé, prend en entrée le nom du fichier sans l'extension\"\"\"\n",
    "    with open(f\"{chemin_fichier}.json\", mode = \"r\", encoding = y) as j:\n",
    "            return json.load(j)\n",
    "        \n",
    "x = jsonread(\"a - 2022-07-04\")\n",
    "\n",
    "x = [e[\"texte\"] for e in x]\n",
    "\n",
    "y = avance.avance(x)"
   ]
  },
  {
   "cell_type": "code",
   "execution_count": 3,
   "metadata": {
    "scrolled": false
   },
   "outputs": [
    {
     "data": {
      "application/vnd.jupyter.widget-view+json": {
       "model_id": "c12b1ab0c031476382df3381759dee6f",
       "version_major": 2,
       "version_minor": 0
      },
      "text/plain": [
       "Calcul des vecteurs seconds / supression:   0%|          | 0/3 [00:00<?, ?it/s]"
      ]
     },
     "metadata": {},
     "output_type": "display_data"
    },
    {
     "name": "stdout",
     "output_type": "stream",
     "text": [
      "Dédoublonage avancé : Il reste désormais 2871 articles.\n"
     ]
    }
   ],
   "source": [
    "y.process()"
   ]
  },
  {
   "cell_type": "code",
   "execution_count": null,
   "metadata": {
    "scrolled": false
   },
   "outputs": [],
   "source": [
    "sorted(y.liste_doublons , key=lambda tupliste: len(tupliste))"
   ]
  }
 ],
 "metadata": {
  "kernelspec": {
   "display_name": "Python 3 (ipykernel)",
   "language": "python",
   "name": "python3"
  },
  "language_info": {
   "codemirror_mode": {
    "name": "ipython",
    "version": 3
   },
   "file_extension": ".py",
   "mimetype": "text/x-python",
   "name": "python",
   "nbconvert_exporter": "python",
   "pygments_lexer": "ipython3",
   "version": "3.9.12"
  },
  "vscode": {
   "interpreter": {
    "hash": "4e968bc8d62bb22e2329b3444de515ac92c6fd65d124ab0109f89be96903587f"
   }
  }
 },
 "nbformat": 4,
 "nbformat_minor": 2
}
